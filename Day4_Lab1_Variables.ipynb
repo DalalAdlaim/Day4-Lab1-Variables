{
  "cells": [
    {
      "cell_type": "markdown",
      "metadata": {
        "id": "11_zt60n9zsl"
      },
      "source": []
    },
    {
      "cell_type": "code",
      "execution_count": 11,
      "metadata": {
        "id": "6dvcZvG02RxD"
      },
      "outputs": [],
      "source": [
        "#Define a variable that has a value of your favourite season.\n",
        "myFavouriteSeason = \"WINTER\"\n",
        "#Define “x“ variable has an integer value and variable “y” has a float value.\n",
        "x=1\n",
        "y=1.0\n",
        "#Assign One Value to Multiple Variables.\n",
        "x = y = z = 5\n",
        "#Assign Many Values to Multiple Variables.\n",
        "x, y, z = 11, 22, 33\n"
      ]
    }
  ],
  "metadata": {
    "colab": {
      "collapsed_sections": [],
      "provenance": []
    },
    "kernelspec": {
      "display_name": "Python 3",
      "name": "python3"
    },
    "language_info": {
      "name": "python"
    }
  },
  "nbformat": 4,
  "nbformat_minor": 0
}
